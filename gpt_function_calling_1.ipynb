{
 "cells": [
  {
   "cell_type": "markdown",
   "id": "103d7f68",
   "metadata": {},
   "source": [
    "# Using GPT Function Calling to get deterministic output"
   ]
  },
  {
   "cell_type": "markdown",
   "id": "9f7d4017",
   "metadata": {},
   "source": [
    "## Navigating"
   ]
  },
  {
   "cell_type": "code",
   "execution_count": 1,
   "id": "4371634d",
   "metadata": {},
   "outputs": [
    {
     "data": {
      "text/plain": [
       "'/home/pranshumaan'"
      ]
     },
     "execution_count": 1,
     "metadata": {},
     "output_type": "execute_result"
    }
   ],
   "source": [
    "pwd"
   ]
  },
  {
   "cell_type": "code",
   "execution_count": 2,
   "id": "81835174",
   "metadata": {},
   "outputs": [
    {
     "name": "stdout",
     "output_type": "stream",
     "text": [
      "/media/pranshumaan/TOSHIBA EXT\n"
     ]
    }
   ],
   "source": [
    "cd /media/pranshumaan/TOSHIBA\\ EXT"
   ]
  },
  {
   "cell_type": "code",
   "execution_count": 3,
   "id": "3c2ea21d",
   "metadata": {
    "scrolled": true
   },
   "outputs": [
    {
     "name": "stdout",
     "output_type": "stream",
     "text": [
      "/media/pranshumaan/TOSHIBA EXT/Dev\n"
     ]
    }
   ],
   "source": [
    "cd Dev/"
   ]
  },
  {
   "cell_type": "code",
   "execution_count": 4,
   "id": "7cf0004c",
   "metadata": {},
   "outputs": [
    {
     "name": "stdout",
     "output_type": "stream",
     "text": [
      " \u001b[0m\u001b[01;34mdata\u001b[0m/                                  \u001b[01;34m'Project_Finmin (copy)'\u001b[0m/\r\n",
      " \u001b[01;34mDeep_Learning_Pytorch_Udemy_Tutorial\u001b[0m/   \u001b[01;34mSecrets\u001b[0m/\r\n",
      " \u001b[01;34mLangchain\u001b[0m/                              \u001b[01;34mTFR_Modelling\u001b[0m/\r\n",
      " \u001b[01;34mProject_Finmin\u001b[0m/\r\n"
     ]
    }
   ],
   "source": [
    "ls"
   ]
  },
  {
   "cell_type": "code",
   "execution_count": 5,
   "id": "f8223b10",
   "metadata": {},
   "outputs": [],
   "source": [
    "mkdir GPT_Functin_Calling"
   ]
  },
  {
   "cell_type": "code",
   "execution_count": 6,
   "id": "29080dd3",
   "metadata": {},
   "outputs": [
    {
     "name": "stdout",
     "output_type": "stream",
     "text": [
      "/media/pranshumaan/TOSHIBA EXT/Dev/GPT_Functin_Calling\n"
     ]
    }
   ],
   "source": [
    "cd GPT_Functin_Calling/"
   ]
  },
  {
   "cell_type": "code",
   "execution_count": 7,
   "id": "9e84368c",
   "metadata": {},
   "outputs": [
    {
     "data": {
      "text/plain": [
       "'/media/pranshumaan/TOSHIBA EXT/Dev/GPT_Function_Calling'"
      ]
     },
     "execution_count": 7,
     "metadata": {},
     "output_type": "execute_result"
    }
   ],
   "source": [
    "pwd"
   ]
  },
  {
   "cell_type": "markdown",
   "id": "854a4686",
   "metadata": {},
   "source": [
    "## Passing secrets and loading requirements"
   ]
  },
  {
   "cell_type": "code",
   "execution_count": 8,
   "id": "b8da561e",
   "metadata": {},
   "outputs": [],
   "source": [
    "import openai\n",
    "import json\n",
    "\n",
    "with open('../Secrets/open_ai_api_key.txt', 'r') as file:\n",
    "    key = file.read().rstrip()\n",
    "\n",
    "# load and set our key\n",
    "openai.api_key = key"
   ]
  },
  {
   "cell_type": "markdown",
   "id": "9bd8649b",
   "metadata": {},
   "source": [
    "## Example demo: Without function calling"
   ]
  },
  {
   "cell_type": "code",
   "execution_count": 10,
   "id": "af8d79ba",
   "metadata": {},
   "outputs": [],
   "source": [
    "completion = openai.ChatCompletion.create(\n",
    "    model=\"gpt-3.5-turbo\",\n",
    "    messages=[{\"role\": \"user\", \"content\": \"What's the weather like in Boston?\"}],\n",
    ")"
   ]
  },
  {
   "cell_type": "code",
   "execution_count": 11,
   "id": "c2253571",
   "metadata": {},
   "outputs": [
    {
     "name": "stdout",
     "output_type": "stream",
     "text": [
      "I am sorry, as an AI language model, I do not have real-time information. Can you please specify the date or time frame you are referring to?\n"
     ]
    }
   ],
   "source": [
    "reply_content = completion.choices[0].message.content\n",
    "print(reply_content)"
   ]
  },
  {
   "cell_type": "markdown",
   "id": "472776cd",
   "metadata": {},
   "source": [
    "As expected, the response is not useful due to inability of GPT to provide information that can be LLM generated."
   ]
  },
  {
   "cell_type": "markdown",
   "id": "f274cfbd",
   "metadata": {},
   "source": [
    "## Demonstrating Function Calling"
   ]
  },
  {
   "cell_type": "markdown",
   "id": "53948dd1",
   "metadata": {},
   "source": [
    "### Using the documentation example"
   ]
  },
  {
   "cell_type": "code",
   "execution_count": 39,
   "id": "6f18f09c",
   "metadata": {},
   "outputs": [],
   "source": [
    "response = openai.ChatCompletion.create(\n",
    "        model=\"gpt-3.5-turbo-0613\",\n",
    "        messages=[{\"role\": \"user\", \"content\": \"What's the weather like in Boston?\"}],\n",
    "        functions=[\n",
    "            {\n",
    "                \"name\": \"get_current_weather\",\n",
    "                \"description\": \"Get the current weather in a given location\",\n",
    "                \"parameters\": {\n",
    "                    \"type\": \"object\",\n",
    "                    \"properties\": {\n",
    "                        \"location\": {\n",
    "                            \"type\": \"string\",\n",
    "                            \"description\": \"The city and state, e.g. San Francisco, CA\",\n",
    "                        },\n",
    "                        \"unit\": {\"type\": \"string\", \"enum\": [\"celsius\", \"fahrenheit\"]},\n",
    "                    },\n",
    "                    \"required\": [\"location\"],\n",
    "                },\n",
    "            }\n",
    "        ],\n",
    "        function_call=\"auto\",\n",
    "    )"
   ]
  },
  {
   "cell_type": "code",
   "execution_count": 40,
   "id": "6def0cd0",
   "metadata": {},
   "outputs": [
    {
     "data": {
      "text/plain": [
       "<OpenAIObject at 0x7f3c2f058ef0> JSON: {\n",
       "  \"content\": null,\n",
       "  \"function_call\": {\n",
       "    \"arguments\": \"{\\n  \\\"location\\\": \\\"Boston, MA\\\"\\n}\",\n",
       "    \"name\": \"get_current_weather\"\n",
       "  },\n",
       "  \"role\": \"assistant\"\n",
       "}"
      ]
     },
     "execution_count": 40,
     "metadata": {},
     "output_type": "execute_result"
    }
   ],
   "source": [
    "message = response[\"choices\"][0][\"message\"]\n",
    "message"
   ]
  },
  {
   "cell_type": "code",
   "execution_count": 41,
   "id": "c1b36bb5",
   "metadata": {},
   "outputs": [],
   "source": [
    "if message.get(\"function_call\"):\n",
    "        function_name = message[\"function_call\"][\"name\"]\n",
    "        function_args = json.loads(message[\"function_call\"][\"arguments\"])"
   ]
  },
  {
   "cell_type": "code",
   "execution_count": 51,
   "id": "78c5b52e",
   "metadata": {},
   "outputs": [
    {
     "data": {
      "text/plain": [
       "('get_current_weather', {'location': 'Boston, MA'})"
      ]
     },
     "execution_count": 51,
     "metadata": {},
     "output_type": "execute_result"
    }
   ],
   "source": [
    "function_name, function_args"
   ]
  },
  {
   "cell_type": "code",
   "execution_count": 52,
   "id": "c8dd2d49",
   "metadata": {},
   "outputs": [],
   "source": [
    "second_response = openai.ChatCompletion.create(\n",
    "            model=\"gpt-3.5-turbo-0613\",\n",
    "            messages=[\n",
    "                {\"role\": \"user\", \"content\": \"What is the weather like in boston?\"},\n",
    "                message,\n",
    "                {\n",
    "                    \"role\": \"function\",\n",
    "                    \"name\": function_name,\n",
    "                    \"content\": function_response,\n",
    "                },\n",
    "            ],\n",
    "        )"
   ]
  },
  {
   "cell_type": "code",
   "execution_count": 53,
   "id": "575a5480",
   "metadata": {},
   "outputs": [
    {
     "data": {
      "text/plain": [
       "<OpenAIObject chat.completion id=chatcmpl-7Ry0DnB6HkoAQb8UR84jNWcdcJcGf at 0x7f3c3071bba0> JSON: {\n",
       "  \"choices\": [\n",
       "    {\n",
       "      \"finish_reason\": \"stop\",\n",
       "      \"index\": 0,\n",
       "      \"message\": {\n",
       "        \"content\": \"The current weather in Boston is sunny and windy with a temperature of 72 degrees.\",\n",
       "        \"role\": \"assistant\"\n",
       "      }\n",
       "    }\n",
       "  ],\n",
       "  \"created\": 1686899861,\n",
       "  \"id\": \"chatcmpl-7Ry0DnB6HkoAQb8UR84jNWcdcJcGf\",\n",
       "  \"model\": \"gpt-3.5-turbo-0613\",\n",
       "  \"object\": \"chat.completion\",\n",
       "  \"usage\": {\n",
       "    \"completion_tokens\": 17,\n",
       "    \"prompt_tokens\": 73,\n",
       "    \"total_tokens\": 90\n",
       "  }\n",
       "}"
      ]
     },
     "execution_count": 53,
     "metadata": {},
     "output_type": "execute_result"
    }
   ],
   "source": [
    "second_response"
   ]
  },
  {
   "cell_type": "markdown",
   "id": "68425c98",
   "metadata": {},
   "source": [
    "## Testing with a new example\n",
    "Getting a stock price from the company name"
   ]
  },
  {
   "cell_type": "code",
   "execution_count": 60,
   "id": "9d4ed542",
   "metadata": {},
   "outputs": [],
   "source": [
    "response = openai.ChatCompletion.create(\n",
    "        model=\"gpt-3.5-turbo-0613\",\n",
    "        messages=[{\"role\": \"user\", \"content\": \"What's the last price of Airtel's stock?\"}],\n",
    "        functions=[\n",
    "            {\n",
    "                \"name\": \"get_closing_stock_price\",\n",
    "                \"description\": \"Get the closing stock price for a given company\",\n",
    "                \"parameters\": {\n",
    "                    \"type\": \"object\",\n",
    "                    \"properties\": {\n",
    "                        \"company_name\": {\n",
    "                            \"type\": \"string\",\n",
    "                            \"description\": \"The company name e.g. Microsoft, Apple etc.\",\n",
    "                        },\n",
    "                    },\n",
    "                    \"required\": [\"company_name\"],\n",
    "                },\n",
    "            }\n",
    "        ],\n",
    "        function_call=\"auto\",\n",
    "    )"
   ]
  },
  {
   "cell_type": "code",
   "execution_count": 61,
   "id": "024b33b8",
   "metadata": {},
   "outputs": [
    {
     "data": {
      "text/plain": [
       "<OpenAIObject at 0x7f3c2f24db20> JSON: {\n",
       "  \"content\": null,\n",
       "  \"function_call\": {\n",
       "    \"arguments\": \"{\\n  \\\"company_name\\\": \\\"Airtel\\\"\\n}\",\n",
       "    \"name\": \"get_closing_stock_price\"\n",
       "  },\n",
       "  \"role\": \"assistant\"\n",
       "}"
      ]
     },
     "execution_count": 61,
     "metadata": {},
     "output_type": "execute_result"
    }
   ],
   "source": [
    "message = response[\"choices\"][0][\"message\"]\n",
    "message"
   ]
  },
  {
   "cell_type": "code",
   "execution_count": 62,
   "id": "0ff66773",
   "metadata": {},
   "outputs": [],
   "source": [
    "if message.get(\"function_call\"):\n",
    "        function_name = message[\"function_call\"][\"name\"]\n",
    "        function_args = json.loads(message[\"function_call\"][\"arguments\"])"
   ]
  },
  {
   "cell_type": "code",
   "execution_count": 63,
   "id": "de54c432",
   "metadata": {},
   "outputs": [
    {
     "data": {
      "text/plain": [
       "('get_closing_stock_price', {'company_name': 'Airtel'})"
      ]
     },
     "execution_count": 63,
     "metadata": {},
     "output_type": "execute_result"
    }
   ],
   "source": [
    "function_name, function_args"
   ]
  },
  {
   "cell_type": "code",
   "execution_count": 64,
   "id": "35bd4132",
   "metadata": {},
   "outputs": [],
   "source": [
    "second_response = openai.ChatCompletion.create(\n",
    "            model=\"gpt-3.5-turbo-0613\",\n",
    "            messages=[\n",
    "                {\"role\": \"user\", \"content\": \"What's the price of Airtel's stock today??\"},\n",
    "                message,\n",
    "                {\n",
    "                    \"role\": \"function\",\n",
    "                    \"name\": function_name,\n",
    "                    \"content\": function_response,\n",
    "                },\n",
    "            ],\n",
    "        )"
   ]
  },
  {
   "cell_type": "code",
   "execution_count": 65,
   "id": "122c027c",
   "metadata": {},
   "outputs": [
    {
     "data": {
      "text/plain": [
       "<OpenAIObject chat.completion id=chatcmpl-7Ry5h0BGgcjzjVLVOOj5ktDjiMQlt at 0x7f3c2f5d8ae0> JSON: {\n",
       "  \"choices\": [\n",
       "    {\n",
       "      \"finish_reason\": \"stop\",\n",
       "      \"index\": 0,\n",
       "      \"message\": {\n",
       "        \"content\": \"I apologize, but I don't have access to live stock prices. I recommend checking a financial website or contacting a stockbroker for the latest information on Airtel's stock price.\",\n",
       "        \"role\": \"assistant\"\n",
       "      }\n",
       "    }\n",
       "  ],\n",
       "  \"created\": 1686900201,\n",
       "  \"id\": \"chatcmpl-7Ry5h0BGgcjzjVLVOOj5ktDjiMQlt\",\n",
       "  \"model\": \"gpt-3.5-turbo-0613\",\n",
       "  \"object\": \"chat.completion\",\n",
       "  \"usage\": {\n",
       "    \"completion_tokens\": 37,\n",
       "    \"prompt_tokens\": 81,\n",
       "    \"total_tokens\": 118\n",
       "  }\n",
       "}"
      ]
     },
     "execution_count": 65,
     "metadata": {},
     "output_type": "execute_result"
    }
   ],
   "source": [
    "second_response"
   ]
  },
  {
   "cell_type": "markdown",
   "id": "a934412f",
   "metadata": {},
   "source": [
    "## Testing with another example\n",
    "Getting the latitude and longitude of a place"
   ]
  },
  {
   "cell_type": "code",
   "execution_count": 69,
   "id": "ce191f6b",
   "metadata": {},
   "outputs": [],
   "source": [
    "response = openai.ChatCompletion.create(\n",
    "        model=\"gpt-3.5-turbo-0613\",\n",
    "        messages=[{\"role\": \"user\", \"content\": \"What are the coordinates of Bengaluru?\"}],\n",
    "        functions=[\n",
    "            {\n",
    "                \"name\": \"get_latitude_and_longitude\",\n",
    "                \"description\": \"Get the coordinates in terms of latitude and longitude for a given location\",\n",
    "                \"parameters\": {\n",
    "                    \"type\": \"object\",\n",
    "                    \"properties\": {\n",
    "                        \"location\": {\n",
    "                            \"type\": \"string\",\n",
    "                            \"description\": \"The city, e.g. San Francisco, CA\",\n",
    "                        },\n",
    "                        \"unit\": {\"type\": \"string\", \"enum\": [\"degrees\"]},\n",
    "                    },\n",
    "                    \"required\": [\"location\"],\n",
    "                },\n",
    "            }\n",
    "        ],\n",
    "        function_call=\"auto\",\n",
    "    )"
   ]
  },
  {
   "cell_type": "code",
   "execution_count": 70,
   "id": "4bc6b03d",
   "metadata": {},
   "outputs": [
    {
     "data": {
      "text/plain": [
       "<OpenAIObject at 0x7f3c2f517dd0> JSON: {\n",
       "  \"content\": null,\n",
       "  \"function_call\": {\n",
       "    \"arguments\": \"{\\n  \\\"location\\\": \\\"Bengaluru\\\"\\n}\",\n",
       "    \"name\": \"get_latitude_and_longitude\"\n",
       "  },\n",
       "  \"role\": \"assistant\"\n",
       "}"
      ]
     },
     "execution_count": 70,
     "metadata": {},
     "output_type": "execute_result"
    }
   ],
   "source": [
    "message = response[\"choices\"][0][\"message\"]\n",
    "message"
   ]
  },
  {
   "cell_type": "code",
   "execution_count": 71,
   "id": "a0137ea7",
   "metadata": {},
   "outputs": [],
   "source": [
    "if message.get(\"function_call\"):\n",
    "        function_name = message[\"function_call\"][\"name\"]\n",
    "        function_args = json.loads(message[\"function_call\"][\"arguments\"])"
   ]
  },
  {
   "cell_type": "code",
   "execution_count": 72,
   "id": "bbc3e529",
   "metadata": {},
   "outputs": [],
   "source": [
    "second_response = openai.ChatCompletion.create(\n",
    "            model=\"gpt-3.5-turbo-0613\",\n",
    "            messages=[\n",
    "                {\"role\": \"user\", \"content\": \"What are the coordinates of Bengaluru?\"},\n",
    "                message,\n",
    "                {\n",
    "                    \"role\": \"function\",\n",
    "                    \"name\": function_name,\n",
    "                    \"content\": function_response,\n",
    "                },\n",
    "            ],\n",
    "        )"
   ]
  },
  {
   "cell_type": "code",
   "execution_count": 73,
   "id": "f731644e",
   "metadata": {},
   "outputs": [
    {
     "data": {
      "text/plain": [
       "<OpenAIObject chat.completion id=chatcmpl-7Ry9eJnZH16gzUBM0j5ZaZFgITaAk at 0x7f3c2f24d170> JSON: {\n",
       "  \"choices\": [\n",
       "    {\n",
       "      \"finish_reason\": \"stop\",\n",
       "      \"index\": 0,\n",
       "      \"message\": {\n",
       "        \"content\": \"The coordinates of Bengaluru are approximately 12.9716\\u00b0 N latitude and 77.5946\\u00b0 E longitude.\",\n",
       "        \"role\": \"assistant\"\n",
       "      }\n",
       "    }\n",
       "  ],\n",
       "  \"created\": 1686900446,\n",
       "  \"id\": \"chatcmpl-7Ry9eJnZH16gzUBM0j5ZaZFgITaAk\",\n",
       "  \"model\": \"gpt-3.5-turbo-0613\",\n",
       "  \"object\": \"chat.completion\",\n",
       "  \"usage\": {\n",
       "    \"completion_tokens\": 25,\n",
       "    \"prompt_tokens\": 75,\n",
       "    \"total_tokens\": 100\n",
       "  }\n",
       "}"
      ]
     },
     "execution_count": 73,
     "metadata": {},
     "output_type": "execute_result"
    }
   ],
   "source": [
    "second_response"
   ]
  },
  {
   "cell_type": "markdown",
   "id": "08a7fd2b",
   "metadata": {},
   "source": [
    "Seems correct, from Google: Bengaluru/Coordinates\n",
    "12.9716° N, 77.5946° E"
   ]
  },
  {
   "cell_type": "code",
   "execution_count": 74,
   "id": "009c83f3",
   "metadata": {},
   "outputs": [],
   "source": [
    "third_response = openai.ChatCompletion.create(\n",
    "            model=\"gpt-3.5-turbo-0613\",\n",
    "            messages=[\n",
    "                {\"role\": \"user\", \"content\": \"What are the coordinates of Timbuktu?\"},\n",
    "                message,\n",
    "                {\n",
    "                    \"role\": \"function\",\n",
    "                    \"name\": function_name,\n",
    "                    \"content\": function_response,\n",
    "                },\n",
    "            ],\n",
    "        )"
   ]
  },
  {
   "cell_type": "code",
   "execution_count": 75,
   "id": "b79b4119",
   "metadata": {},
   "outputs": [
    {
     "data": {
      "text/plain": [
       "<OpenAIObject chat.completion id=chatcmpl-7RyApmm8mfVWbGkgCBvEOMP7WI3D2 at 0x7f3c2f5176f0> JSON: {\n",
       "  \"choices\": [\n",
       "    {\n",
       "      \"finish_reason\": \"stop\",\n",
       "      \"index\": 0,\n",
       "      \"message\": {\n",
       "        \"content\": \"The coordinates of Timbuktu are approximately 16.7666\\u00b0 N latitude and 3.0026\\u00b0 W longitude.\",\n",
       "        \"role\": \"assistant\"\n",
       "      }\n",
       "    }\n",
       "  ],\n",
       "  \"created\": 1686900519,\n",
       "  \"id\": \"chatcmpl-7RyApmm8mfVWbGkgCBvEOMP7WI3D2\",\n",
       "  \"model\": \"gpt-3.5-turbo-0613\",\n",
       "  \"object\": \"chat.completion\",\n",
       "  \"usage\": {\n",
       "    \"completion_tokens\": 27,\n",
       "    \"prompt_tokens\": 77,\n",
       "    \"total_tokens\": 104\n",
       "  }\n",
       "}"
      ]
     },
     "execution_count": 75,
     "metadata": {},
     "output_type": "execute_result"
    }
   ],
   "source": [
    "third_response"
   ]
  },
  {
   "cell_type": "markdown",
   "id": "4910aeed",
   "metadata": {},
   "source": [
    "Timbuktu/Coordinates\n",
    "16.7666° N, 3.0026° W"
   ]
  },
  {
   "cell_type": "markdown",
   "id": "4ffbe23f",
   "metadata": {},
   "source": [
    "For comparison, Chat GPT-3.5 answer was: https://chat.openai.com/share/fc17a454-6569-4784-8d19-fffe00ffa5c8\n",
    ">The coordinates of Timbuktu are approximately 16.7666° N latitude and 3.0026° W longitude. Please note that these coordinates are approximate and should be verified using reliable sources before any specific use."
   ]
  },
  {
   "cell_type": "code",
   "execution_count": null,
   "id": "b3d9ae89",
   "metadata": {},
   "outputs": [],
   "source": []
  }
 ],
 "metadata": {
  "kernelspec": {
   "display_name": "Python 3 (ipykernel)",
   "language": "python",
   "name": "python3"
  },
  "language_info": {
   "codemirror_mode": {
    "name": "ipython",
    "version": 3
   },
   "file_extension": ".py",
   "mimetype": "text/x-python",
   "name": "python",
   "nbconvert_exporter": "python",
   "pygments_lexer": "ipython3",
   "version": "3.10.6"
  }
 },
 "nbformat": 4,
 "nbformat_minor": 5
}
